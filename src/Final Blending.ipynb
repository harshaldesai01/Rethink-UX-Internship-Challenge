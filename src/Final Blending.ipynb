{
 "cells": [
  {
   "cell_type": "code",
   "execution_count": 1,
   "metadata": {},
   "outputs": [],
   "source": [
    "import os\n",
    "import numpy as np\n",
    "import pandas as pd"
   ]
  },
  {
   "cell_type": "code",
   "execution_count": 2,
   "metadata": {},
   "outputs": [],
   "source": [
    "archs = os.listdir('../output/probabilities/')"
   ]
  },
  {
   "cell_type": "code",
   "execution_count": 3,
   "metadata": {},
   "outputs": [
    {
     "name": "stdout",
     "output_type": "stream",
     "text": [
      "['TTA_MobileNet_LB_94573.csv', 'Preds_MobileNet_LB_94573.csv'] \n",
      "\n",
      "['Preds_DenseNet121_LB_94720.csv', 'TTA_DenseNet121_LB_94720.csv'] \n",
      "\n",
      "['TTA_SeResNext50_299_LB_95043.csv', 'Preds_SeResNext50_299_LB_95043.csv'] \n",
      "\n",
      "['TTA_ResNet50_LB_94925.csv', 'Preds_ResNet50_LB_94925.csv'] \n",
      "\n"
     ]
    }
   ],
   "source": [
    "for arch in archs:\n",
    "    print(os.listdir('../output/probabilities/'+arch), '\\n')"
   ]
  },
  {
   "cell_type": "code",
   "execution_count": 4,
   "metadata": {},
   "outputs": [],
   "source": [
    "preds_res50 = pd.read_csv('../output/probabilities/ResNet50/Preds_ResNet50_LB_94925.csv')\n",
    "preds_seresnext50 = pd.read_csv('../output/probabilities/SeResNext/Preds_SeResNext50_299_LB_95043.csv')\n",
    "preds_mobilenet = pd.read_csv('../output/probabilities/MobileNet_v2/Preds_MobileNet_LB_94573.csv')\n",
    "preds_densenet = pd.read_csv('../output/probabilities/DenseNet121/Preds_DenseNet121_LB_94720.csv')"
   ]
  },
  {
   "cell_type": "code",
   "execution_count": 5,
   "metadata": {},
   "outputs": [
    {
     "data": {
      "text/html": [
       "<div>\n",
       "<style scoped>\n",
       "    .dataframe tbody tr th:only-of-type {\n",
       "        vertical-align: middle;\n",
       "    }\n",
       "\n",
       "    .dataframe tbody tr th {\n",
       "        vertical-align: top;\n",
       "    }\n",
       "\n",
       "    .dataframe thead th {\n",
       "        text-align: right;\n",
       "    }\n",
       "</style>\n",
       "<table border=\"1\" class=\"dataframe\">\n",
       "  <thead>\n",
       "    <tr style=\"text-align: right;\">\n",
       "      <th></th>\n",
       "      <th>buildings</th>\n",
       "      <th>forest</th>\n",
       "      <th>glacier</th>\n",
       "      <th>mountain</th>\n",
       "      <th>sea</th>\n",
       "      <th>street</th>\n",
       "    </tr>\n",
       "  </thead>\n",
       "  <tbody>\n",
       "    <tr>\n",
       "      <th>0</th>\n",
       "      <td>0.018442</td>\n",
       "      <td>7.630687e-08</td>\n",
       "      <td>5.524068e-07</td>\n",
       "      <td>0.000003</td>\n",
       "      <td>0.000001</td>\n",
       "      <td>0.981554</td>\n",
       "    </tr>\n",
       "    <tr>\n",
       "      <th>1</th>\n",
       "      <td>0.000017</td>\n",
       "      <td>1.932071e-06</td>\n",
       "      <td>9.990940e-01</td>\n",
       "      <td>0.000878</td>\n",
       "      <td>0.000003</td>\n",
       "      <td>0.000006</td>\n",
       "    </tr>\n",
       "    <tr>\n",
       "      <th>2</th>\n",
       "      <td>0.000746</td>\n",
       "      <td>1.677976e-05</td>\n",
       "      <td>9.950773e-01</td>\n",
       "      <td>0.003128</td>\n",
       "      <td>0.000997</td>\n",
       "      <td>0.000034</td>\n",
       "    </tr>\n",
       "    <tr>\n",
       "      <th>3</th>\n",
       "      <td>0.000121</td>\n",
       "      <td>5.039058e-04</td>\n",
       "      <td>1.375873e-01</td>\n",
       "      <td>0.861430</td>\n",
       "      <td>0.000087</td>\n",
       "      <td>0.000272</td>\n",
       "    </tr>\n",
       "    <tr>\n",
       "      <th>4</th>\n",
       "      <td>0.000009</td>\n",
       "      <td>2.179095e-04</td>\n",
       "      <td>9.977787e-01</td>\n",
       "      <td>0.000420</td>\n",
       "      <td>0.001106</td>\n",
       "      <td>0.000468</td>\n",
       "    </tr>\n",
       "  </tbody>\n",
       "</table>\n",
       "</div>"
      ],
      "text/plain": [
       "   buildings        forest       glacier  mountain       sea    street\n",
       "0   0.018442  7.630687e-08  5.524068e-07  0.000003  0.000001  0.981554\n",
       "1   0.000017  1.932071e-06  9.990940e-01  0.000878  0.000003  0.000006\n",
       "2   0.000746  1.677976e-05  9.950773e-01  0.003128  0.000997  0.000034\n",
       "3   0.000121  5.039058e-04  1.375873e-01  0.861430  0.000087  0.000272\n",
       "4   0.000009  2.179095e-04  9.977787e-01  0.000420  0.001106  0.000468"
      ]
     },
     "execution_count": 5,
     "metadata": {},
     "output_type": "execute_result"
    }
   ],
   "source": [
    "preds_res50.head()"
   ]
  },
  {
   "cell_type": "code",
   "execution_count": 6,
   "metadata": {},
   "outputs": [
    {
     "data": {
      "text/html": [
       "<div>\n",
       "<style scoped>\n",
       "    .dataframe tbody tr th:only-of-type {\n",
       "        vertical-align: middle;\n",
       "    }\n",
       "\n",
       "    .dataframe tbody tr th {\n",
       "        vertical-align: top;\n",
       "    }\n",
       "\n",
       "    .dataframe thead th {\n",
       "        text-align: right;\n",
       "    }\n",
       "</style>\n",
       "<table border=\"1\" class=\"dataframe\">\n",
       "  <thead>\n",
       "    <tr style=\"text-align: right;\">\n",
       "      <th></th>\n",
       "      <th>buildings</th>\n",
       "      <th>forest</th>\n",
       "      <th>glacier</th>\n",
       "      <th>mountain</th>\n",
       "      <th>sea</th>\n",
       "      <th>street</th>\n",
       "    </tr>\n",
       "  </thead>\n",
       "  <tbody>\n",
       "    <tr>\n",
       "      <th>0</th>\n",
       "      <td>0.003422</td>\n",
       "      <td>0.008405</td>\n",
       "      <td>0.003887</td>\n",
       "      <td>0.980783</td>\n",
       "      <td>0.002181</td>\n",
       "      <td>0.001323</td>\n",
       "    </tr>\n",
       "    <tr>\n",
       "      <th>1</th>\n",
       "      <td>0.000959</td>\n",
       "      <td>0.000559</td>\n",
       "      <td>0.979270</td>\n",
       "      <td>0.011636</td>\n",
       "      <td>0.000420</td>\n",
       "      <td>0.007157</td>\n",
       "    </tr>\n",
       "    <tr>\n",
       "      <th>2</th>\n",
       "      <td>0.962402</td>\n",
       "      <td>0.000312</td>\n",
       "      <td>0.000392</td>\n",
       "      <td>0.001999</td>\n",
       "      <td>0.000576</td>\n",
       "      <td>0.034319</td>\n",
       "    </tr>\n",
       "    <tr>\n",
       "      <th>3</th>\n",
       "      <td>0.000772</td>\n",
       "      <td>0.000129</td>\n",
       "      <td>0.982528</td>\n",
       "      <td>0.002733</td>\n",
       "      <td>0.000443</td>\n",
       "      <td>0.013395</td>\n",
       "    </tr>\n",
       "    <tr>\n",
       "      <th>4</th>\n",
       "      <td>0.000857</td>\n",
       "      <td>0.004283</td>\n",
       "      <td>0.126754</td>\n",
       "      <td>0.009705</td>\n",
       "      <td>0.857327</td>\n",
       "      <td>0.001073</td>\n",
       "    </tr>\n",
       "  </tbody>\n",
       "</table>\n",
       "</div>"
      ],
      "text/plain": [
       "   buildings    forest   glacier  mountain       sea    street\n",
       "0   0.003422  0.008405  0.003887  0.980783  0.002181  0.001323\n",
       "1   0.000959  0.000559  0.979270  0.011636  0.000420  0.007157\n",
       "2   0.962402  0.000312  0.000392  0.001999  0.000576  0.034319\n",
       "3   0.000772  0.000129  0.982528  0.002733  0.000443  0.013395\n",
       "4   0.000857  0.004283  0.126754  0.009705  0.857327  0.001073"
      ]
     },
     "execution_count": 6,
     "metadata": {},
     "output_type": "execute_result"
    }
   ],
   "source": [
    "preds_seresnext50.head()"
   ]
  },
  {
   "cell_type": "code",
   "execution_count": 7,
   "metadata": {},
   "outputs": [
    {
     "data": {
      "text/html": [
       "<div>\n",
       "<style scoped>\n",
       "    .dataframe tbody tr th:only-of-type {\n",
       "        vertical-align: middle;\n",
       "    }\n",
       "\n",
       "    .dataframe tbody tr th {\n",
       "        vertical-align: top;\n",
       "    }\n",
       "\n",
       "    .dataframe thead th {\n",
       "        text-align: right;\n",
       "    }\n",
       "</style>\n",
       "<table border=\"1\" class=\"dataframe\">\n",
       "  <thead>\n",
       "    <tr style=\"text-align: right;\">\n",
       "      <th></th>\n",
       "      <th>buildings</th>\n",
       "      <th>forest</th>\n",
       "      <th>glacier</th>\n",
       "      <th>mountain</th>\n",
       "      <th>sea</th>\n",
       "      <th>street</th>\n",
       "    </tr>\n",
       "  </thead>\n",
       "  <tbody>\n",
       "    <tr>\n",
       "      <th>0</th>\n",
       "      <td>0.000536</td>\n",
       "      <td>0.001429</td>\n",
       "      <td>0.004490</td>\n",
       "      <td>0.987566</td>\n",
       "      <td>0.005827</td>\n",
       "      <td>0.000152</td>\n",
       "    </tr>\n",
       "    <tr>\n",
       "      <th>1</th>\n",
       "      <td>0.000609</td>\n",
       "      <td>0.003703</td>\n",
       "      <td>0.941568</td>\n",
       "      <td>0.009546</td>\n",
       "      <td>0.001082</td>\n",
       "      <td>0.043491</td>\n",
       "    </tr>\n",
       "    <tr>\n",
       "      <th>2</th>\n",
       "      <td>0.987848</td>\n",
       "      <td>0.000162</td>\n",
       "      <td>0.000541</td>\n",
       "      <td>0.002414</td>\n",
       "      <td>0.001249</td>\n",
       "      <td>0.007786</td>\n",
       "    </tr>\n",
       "    <tr>\n",
       "      <th>3</th>\n",
       "      <td>0.000409</td>\n",
       "      <td>0.002467</td>\n",
       "      <td>0.981478</td>\n",
       "      <td>0.005392</td>\n",
       "      <td>0.000709</td>\n",
       "      <td>0.009544</td>\n",
       "    </tr>\n",
       "    <tr>\n",
       "      <th>4</th>\n",
       "      <td>0.002948</td>\n",
       "      <td>0.011830</td>\n",
       "      <td>0.039624</td>\n",
       "      <td>0.028593</td>\n",
       "      <td>0.915174</td>\n",
       "      <td>0.001830</td>\n",
       "    </tr>\n",
       "  </tbody>\n",
       "</table>\n",
       "</div>"
      ],
      "text/plain": [
       "   buildings    forest   glacier  mountain       sea    street\n",
       "0   0.000536  0.001429  0.004490  0.987566  0.005827  0.000152\n",
       "1   0.000609  0.003703  0.941568  0.009546  0.001082  0.043491\n",
       "2   0.987848  0.000162  0.000541  0.002414  0.001249  0.007786\n",
       "3   0.000409  0.002467  0.981478  0.005392  0.000709  0.009544\n",
       "4   0.002948  0.011830  0.039624  0.028593  0.915174  0.001830"
      ]
     },
     "execution_count": 7,
     "metadata": {},
     "output_type": "execute_result"
    }
   ],
   "source": [
    "preds_mobilenet.head()"
   ]
  },
  {
   "cell_type": "code",
   "execution_count": 8,
   "metadata": {},
   "outputs": [
    {
     "data": {
      "text/html": [
       "<div>\n",
       "<style scoped>\n",
       "    .dataframe tbody tr th:only-of-type {\n",
       "        vertical-align: middle;\n",
       "    }\n",
       "\n",
       "    .dataframe tbody tr th {\n",
       "        vertical-align: top;\n",
       "    }\n",
       "\n",
       "    .dataframe thead th {\n",
       "        text-align: right;\n",
       "    }\n",
       "</style>\n",
       "<table border=\"1\" class=\"dataframe\">\n",
       "  <thead>\n",
       "    <tr style=\"text-align: right;\">\n",
       "      <th></th>\n",
       "      <th>buildings</th>\n",
       "      <th>forest</th>\n",
       "      <th>glacier</th>\n",
       "      <th>mountain</th>\n",
       "      <th>sea</th>\n",
       "      <th>street</th>\n",
       "    </tr>\n",
       "  </thead>\n",
       "  <tbody>\n",
       "    <tr>\n",
       "      <th>0</th>\n",
       "      <td>0.002315</td>\n",
       "      <td>0.003473</td>\n",
       "      <td>0.008364</td>\n",
       "      <td>0.975108</td>\n",
       "      <td>0.009988</td>\n",
       "      <td>0.000752</td>\n",
       "    </tr>\n",
       "    <tr>\n",
       "      <th>1</th>\n",
       "      <td>0.000522</td>\n",
       "      <td>0.006154</td>\n",
       "      <td>0.966429</td>\n",
       "      <td>0.003020</td>\n",
       "      <td>0.000516</td>\n",
       "      <td>0.023360</td>\n",
       "    </tr>\n",
       "    <tr>\n",
       "      <th>2</th>\n",
       "      <td>0.985268</td>\n",
       "      <td>0.000165</td>\n",
       "      <td>0.001792</td>\n",
       "      <td>0.001050</td>\n",
       "      <td>0.004362</td>\n",
       "      <td>0.007362</td>\n",
       "    </tr>\n",
       "    <tr>\n",
       "      <th>3</th>\n",
       "      <td>0.003050</td>\n",
       "      <td>0.004459</td>\n",
       "      <td>0.944015</td>\n",
       "      <td>0.014514</td>\n",
       "      <td>0.015220</td>\n",
       "      <td>0.018742</td>\n",
       "    </tr>\n",
       "    <tr>\n",
       "      <th>4</th>\n",
       "      <td>0.001598</td>\n",
       "      <td>0.001442</td>\n",
       "      <td>0.057795</td>\n",
       "      <td>0.010005</td>\n",
       "      <td>0.925758</td>\n",
       "      <td>0.003402</td>\n",
       "    </tr>\n",
       "  </tbody>\n",
       "</table>\n",
       "</div>"
      ],
      "text/plain": [
       "   buildings    forest   glacier  mountain       sea    street\n",
       "0   0.002315  0.003473  0.008364  0.975108  0.009988  0.000752\n",
       "1   0.000522  0.006154  0.966429  0.003020  0.000516  0.023360\n",
       "2   0.985268  0.000165  0.001792  0.001050  0.004362  0.007362\n",
       "3   0.003050  0.004459  0.944015  0.014514  0.015220  0.018742\n",
       "4   0.001598  0.001442  0.057795  0.010005  0.925758  0.003402"
      ]
     },
     "execution_count": 8,
     "metadata": {},
     "output_type": "execute_result"
    }
   ],
   "source": [
    "preds_densenet.head()"
   ]
  },
  {
   "cell_type": "code",
   "execution_count": 9,
   "metadata": {},
   "outputs": [],
   "source": [
    "cols = list(preds_densenet.columns)"
   ]
  },
  {
   "cell_type": "code",
   "execution_count": 10,
   "metadata": {},
   "outputs": [],
   "source": [
    "labels_densenet = pd.read_csv('../output/DenseNet121_128to256_945531.csv')"
   ]
  },
  {
   "cell_type": "code",
   "execution_count": 11,
   "metadata": {},
   "outputs": [
    {
     "data": {
      "text/html": [
       "<div>\n",
       "<style scoped>\n",
       "    .dataframe tbody tr th:only-of-type {\n",
       "        vertical-align: middle;\n",
       "    }\n",
       "\n",
       "    .dataframe tbody tr th {\n",
       "        vertical-align: top;\n",
       "    }\n",
       "\n",
       "    .dataframe thead th {\n",
       "        text-align: right;\n",
       "    }\n",
       "</style>\n",
       "<table border=\"1\" class=\"dataframe\">\n",
       "  <thead>\n",
       "    <tr style=\"text-align: right;\">\n",
       "      <th></th>\n",
       "      <th>Filename</th>\n",
       "      <th>Labels</th>\n",
       "    </tr>\n",
       "  </thead>\n",
       "  <tbody>\n",
       "    <tr>\n",
       "      <th>0</th>\n",
       "      <td>2316.jpg</td>\n",
       "      <td>mountain</td>\n",
       "    </tr>\n",
       "    <tr>\n",
       "      <th>1</th>\n",
       "      <td>1854.jpg</td>\n",
       "      <td>glacier</td>\n",
       "    </tr>\n",
       "    <tr>\n",
       "      <th>2</th>\n",
       "      <td>2510.jpg</td>\n",
       "      <td>buildings</td>\n",
       "    </tr>\n",
       "    <tr>\n",
       "      <th>3</th>\n",
       "      <td>3027.jpg</td>\n",
       "      <td>glacier</td>\n",
       "    </tr>\n",
       "    <tr>\n",
       "      <th>4</th>\n",
       "      <td>3382.jpg</td>\n",
       "      <td>sea</td>\n",
       "    </tr>\n",
       "  </tbody>\n",
       "</table>\n",
       "</div>"
      ],
      "text/plain": [
       "   Filename     Labels\n",
       "0  2316.jpg   mountain\n",
       "1  1854.jpg    glacier\n",
       "2  2510.jpg  buildings\n",
       "3  3027.jpg    glacier\n",
       "4  3382.jpg        sea"
      ]
     },
     "execution_count": 11,
     "metadata": {},
     "output_type": "execute_result"
    }
   ],
   "source": [
    "labels_densenet.head()"
   ]
  },
  {
   "cell_type": "code",
   "execution_count": 12,
   "metadata": {},
   "outputs": [],
   "source": [
    "filenames = labels_densenet['Filename']"
   ]
  },
  {
   "cell_type": "code",
   "execution_count": 13,
   "metadata": {},
   "outputs": [],
   "source": [
    "def write_submission(filenames, labels, file_name):\n",
    "    sub = pd.DataFrame({'Filename': filenames, 'Labels': labels})\n",
    "    sub.to_csv(file_name, index=False)"
   ]
  },
  {
   "cell_type": "code",
   "execution_count": 14,
   "metadata": {},
   "outputs": [],
   "source": [
    "avg_preds = (preds_res50.values + preds_seresnext50.values + preds_mobilenet.values + preds_densenet.values)/4\n",
    "avg_preds = np.argmax(avg_preds, axis=1)\n",
    "labels = []\n",
    "for pred in avg_preds:\n",
    "    labels.append(cols[pred])"
   ]
  },
  {
   "cell_type": "code",
   "execution_count": 15,
   "metadata": {},
   "outputs": [],
   "source": [
    "write_submission(filenames, labels, '../output/Blend_Avg_LB_95.16.csv')\n",
    "# LB 95.16"
   ]
  },
  {
   "cell_type": "markdown",
   "metadata": {},
   "source": [
    "# Weighted Average"
   ]
  },
  {
   "cell_type": "code",
   "execution_count": 16,
   "metadata": {},
   "outputs": [],
   "source": [
    "w_avg_preds = (4*preds_res50.values + 5*preds_seresnext50.values + 2*preds_mobilenet.values + 3*preds_densenet.values)/14\n",
    "w_avg_preds = np.argmax(w_avg_preds, axis=1)\n",
    "w_labels = []\n",
    "for pred in w_avg_preds:\n",
    "    w_labels.append(cols[pred])"
   ]
  },
  {
   "cell_type": "code",
   "execution_count": 17,
   "metadata": {},
   "outputs": [],
   "source": [
    "write_submission(filenames, w_labels, '../output/Blend_W_Avg_LB_95.072.csv')\n",
    "# LB 95.072"
   ]
  },
  {
   "cell_type": "markdown",
   "metadata": {},
   "source": [
    "# Weighted Average 3"
   ]
  },
  {
   "cell_type": "code",
   "execution_count": 18,
   "metadata": {},
   "outputs": [],
   "source": [
    "avg_preds = (preds_res50.values*2 + preds_seresnext50.values*3 + preds_densenet.values*2)/7\n",
    "avg_preds = np.argmax(avg_preds, axis=1)\n",
    "labels = []\n",
    "for pred in avg_preds:\n",
    "    labels.append(cols[pred])"
   ]
  },
  {
   "cell_type": "code",
   "execution_count": 19,
   "metadata": {},
   "outputs": [],
   "source": [
    "write_submission(filenames, labels, '../output/Blend_W_Try_Avg_LB_95.219.csv')\n",
    "# LB 95.219"
   ]
  },
  {
   "cell_type": "markdown",
   "metadata": {},
   "source": [
    "# All 4 Weighted Avg"
   ]
  },
  {
   "cell_type": "code",
   "execution_count": 22,
   "metadata": {},
   "outputs": [],
   "source": [
    "w_avg_preds = (4*preds_res50.values + 6*preds_seresnext50.values + 3*preds_mobilenet.values + 4*preds_densenet.values)/17\n",
    "w_avg_preds = np.argmax(w_avg_preds, axis=1)\n",
    "w_labels = []\n",
    "for pred in w_avg_preds:\n",
    "    w_labels.append(cols[pred])"
   ]
  },
  {
   "cell_type": "code",
   "execution_count": 23,
   "metadata": {},
   "outputs": [],
   "source": [
    "write_submission(filenames, w_labels, '../Blend_W_Avg_LB_95.307.csv')\n",
    "# LB 95.307"
   ]
  }
 ],
 "metadata": {
  "kernelspec": {
   "display_name": "Python 3",
   "language": "python",
   "name": "python3"
  },
  "language_info": {
   "codemirror_mode": {
    "name": "ipython",
    "version": 3
   },
   "file_extension": ".py",
   "mimetype": "text/x-python",
   "name": "python",
   "nbconvert_exporter": "python",
   "pygments_lexer": "ipython3",
   "version": "3.7.7"
  }
 },
 "nbformat": 4,
 "nbformat_minor": 4
}
